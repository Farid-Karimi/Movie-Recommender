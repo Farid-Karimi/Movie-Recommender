{
  "cells": [
    {
      "cell_type": "markdown",
      "metadata": {
        "id": "5WrEZRwi6aPV"
      },
      "source": [
        "# Collaborative Filtering and Hybrid Recommender System\n"
      ]
    },
    {
      "cell_type": "code",
      "execution_count": 2,
      "metadata": {
        "id": "5UWDKXTVERQm"
      },
      "outputs": [],
      "source": [
        "import numpy as np\n",
        "import pandas as pd\n",
        "\n",
        "from surprise import Dataset, SVD, Reader, model_selection\n",
        "from surprise.model_selection import cross_validate, KFold\n",
        "\n",
        "from sklearn.metrics.pairwise import linear_kernel, cosine_similarity\n",
        "from sklearn.feature_extraction.text import TfidfVectorizer, CountVectorizer"
      ]
    },
    {
      "cell_type": "code",
      "execution_count": 3,
      "metadata": {
        "id": "pvT1Xf_YEROa"
      },
      "outputs": [],
      "source": [
        "moviesData = pd.read_csv(\"../data/NewMoviesMetadata.csv\")"
      ]
    },
    {
      "cell_type": "code",
      "execution_count": 4,
      "metadata": {
        "id": "vKd2v7dCEu4l"
      },
      "outputs": [],
      "source": [
        "movie_com = pd.read_csv(\"../data/MovieBasedRecommenderData.csv\")"
      ]
    },
    {
      "cell_type": "code",
      "execution_count": 5,
      "metadata": {
        "id": "Vjyapr6GEux1"
      },
      "outputs": [],
      "source": [
        "links = pd.read_csv(\"../data/links.csv\").dropna()\n",
        "links[\"tmdbId\"] = links[\"tmdbId\"].astype(\"int64\")"
      ]
    },
    {
      "cell_type": "code",
      "execution_count": 6,
      "metadata": {
        "id": "JXRcDXm8ERLw"
      },
      "outputs": [],
      "source": [
        "reader = Reader()\n",
        "ratings = pd.read_csv(\"../data/ratings_small.csv\")"
      ]
    },
    {
      "cell_type": "code",
      "execution_count": 7,
      "metadata": {
        "colab": {
          "base_uri": "https://localhost:8080/"
        },
        "id": "yBBjwGy8ERJY",
        "outputId": "4d7ffddb-1b0e-40fd-827b-52fe9151e5f5"
      },
      "outputs": [
        {
          "name": "stdout",
          "output_type": "stream",
          "text": [
            "Evaluating RMSE, MAE of algorithm SVD on 5 split(s).\n",
            "\n",
            "                  Fold 1  Fold 2  Fold 3  Fold 4  Fold 5  Mean    Std     \n",
            "RMSE (testset)    0.8936  0.8933  0.8999  0.8942  0.8982  0.8959  0.0027  \n",
            "MAE (testset)     0.6874  0.6872  0.6919  0.6891  0.6934  0.6898  0.0025  \n",
            "Fit time          0.59    0.53    0.50    0.51    0.52    0.53    0.03    \n",
            "Test time         0.11    0.06    0.06    0.11    0.06    0.08    0.03    \n"
          ]
        },
        {
          "data": {
            "text/plain": [
              "{'test_rmse': array([0.89363286, 0.89325089, 0.8999437 , 0.89423122, 0.89823211]),\n",
              " 'test_mae': array([0.68743875, 0.68721097, 0.69194576, 0.68909482, 0.69339287]),\n",
              " 'fit_time': (0.588336706161499,\n",
              "  0.5319705009460449,\n",
              "  0.5037281513214111,\n",
              "  0.5127511024475098,\n",
              "  0.515866756439209),\n",
              " 'test_time': (0.11266064643859863,\n",
              "  0.05774354934692383,\n",
              "  0.06286931037902832,\n",
              "  0.10944461822509766,\n",
              "  0.05880379676818848)}"
            ]
          },
          "execution_count": 7,
          "metadata": {},
          "output_type": "execute_result"
        }
      ],
      "source": [
        "data = Dataset.load_from_df(ratings[['userId', 'movieId', 'rating']], reader)\n",
        "svd = SVD()\n",
        "\n",
        "cross_validate(svd, data, measures=['RMSE', 'MAE'], cv=5, verbose=True)"
      ]
    },
    {
      "cell_type": "code",
      "execution_count": 8,
      "metadata": {
        "colab": {
          "base_uri": "https://localhost:8080/"
        },
        "id": "yRZQx9C5ERG1",
        "outputId": "0ffcb943-570d-4bae-fd58-f34bcefb9a63"
      },
      "outputs": [
        {
          "data": {
            "text/plain": [
              "<surprise.prediction_algorithms.matrix_factorization.SVD at 0x1cb83f166e0>"
            ]
          },
          "execution_count": 8,
          "metadata": {},
          "output_type": "execute_result"
        }
      ],
      "source": [
        "data = Dataset.load_from_df(ratings[['userId', 'movieId', 'rating']], reader)\n",
        "trainset = data.build_full_trainset()\n",
        "\n",
        "svd = SVD()\n",
        "svd.fit(trainset)"
      ]
    },
    {
      "cell_type": "code",
      "execution_count": 9,
      "metadata": {
        "colab": {
          "base_uri": "https://localhost:8080/"
        },
        "id": "KUSTiEO8EQ_1",
        "outputId": "da1bb62d-a61c-4806-c2d9-f1db589066c3"
      },
      "outputs": [
        {
          "data": {
            "text/plain": [
              "(45453, 450099)"
            ]
          },
          "execution_count": 9,
          "metadata": {},
          "output_type": "execute_result"
        }
      ],
      "source": [
        "movie_com[\"model_feature\"] = movie_com[\"model_feature\"].fillna(\"\")\n",
        "\n",
        "tf = TfidfVectorizer(\n",
        "    analyzer=\"word\",\n",
        "    ngram_range=(1, 2),\n",
        "    min_df=1,\n",
        "    stop_words=\"english\"\n",
        ")\n",
        "\n",
        "tfidf_matrix = tf.fit_transform(movie_com[\"model_feature\"])\n",
        "tfidf_matrix.shape"
      ]
    },
    {
      "cell_type": "code",
      "execution_count": 10,
      "metadata": {
        "id": "3tTSGkIdEQ9Z"
      },
      "outputs": [],
      "source": [
        "cosine_sim = linear_kernel(tfidf_matrix[:15000], tfidf_matrix)"
      ]
    },
    {
      "cell_type": "code",
      "execution_count": 11,
      "metadata": {
        "id": "9R7lOnvNEQ68"
      },
      "outputs": [],
      "source": [
        "indices = pd.Series(moviesData.index, index=moviesData['title'])\n",
        "movie_id = links[[\"movieId\", \"tmdbId\"]]\n",
        "movie_id.to_csv(\"../data/movie_id.csv\", index=False)"
      ]
    },
    {
      "cell_type": "code",
      "execution_count": 12,
      "metadata": {
        "id": "zCoJwiDhEQ4h"
      },
      "outputs": [],
      "source": [
        "def hybrid(userId, title):\n",
        "    idx = indices[title]\n",
        "\n",
        "    try:\n",
        "        sim_scores = list(enumerate(cosine_sim[int(idx[0])]))\n",
        "    except:\n",
        "        sim_scores = list(enumerate(cosine_sim[int(idx)]))\n",
        "\n",
        "    sim_scores = sorted(sim_scores, key=lambda x: x[1], reverse=True)[1:21]\n",
        "    movie_indices = [i[0] for i in sim_scores]\n",
        "\n",
        "    movies = movie_com.iloc[movie_indices][[\"title\", \"id\"]]\n",
        "    tempLinks = links[links[\"tmdbId\"].isin(movies[\"id\"].tolist())]\n",
        "\n",
        "    preds = [svd.predict(userId, item).est for item in tempLinks[\"movieId\"]]\n",
        "\n",
        "    tempData = pd.DataFrame({\n",
        "        \"title\": movies[\"title\"],\n",
        "        \"est\": preds,\n",
        "        \"id\": movies[\"id\"]\n",
        "    })\n",
        "\n",
        "    tempData = tempData.sort_values(\"est\", ascending=False)\n",
        "    tempData = tempData[tempData[\"est\"] >= 2.5]\n",
        "\n",
        "    return tempData.head(10)\n"
      ]
    },
    {
      "cell_type": "code",
      "execution_count": 13,
      "metadata": {
        "id": "eQMEzEcNEQzz"
      },
      "outputs": [],
      "source": [
        "def getUserRecommender(userID):\n",
        "    tempRatings = ratings[ratings[\"userId\"] == userID]\n",
        "    tempRatings = tempRatings[tempRatings[\"rating\"] >= 4]\n",
        "\n",
        "    tempLinks = links[links[\"tmdbId\"].isin(tempRatings[\"movieId\"].tolist())]\n",
        "    titlesData = moviesData[moviesData[\"id\"].isin(tempLinks[\"tmdbId\"])]\n",
        "\n",
        "    resultDataFrame = pd.DataFrame()\n",
        "\n",
        "    for title in titlesData[\"title\"]:\n",
        "        resultDataFrame = pd.concat([hybrid(userID, title), resultDataFrame], ignore_index=True)\n",
        "\n",
        "    return resultDataFrame.sort_values(\"est\", ascending=False)"
      ]
    },
    {
      "cell_type": "code",
      "execution_count": 14,
      "metadata": {
        "colab": {
          "base_uri": "https://localhost:8080/",
          "height": 363
        },
        "id": "RWf26AUMFyhn",
        "outputId": "a958e753-453d-4719-e92e-cd5b80018cf1"
      },
      "outputs": [
        {
          "data": {
            "text/html": [
              "<div>\n",
              "<style scoped>\n",
              "    .dataframe tbody tr th:only-of-type {\n",
              "        vertical-align: middle;\n",
              "    }\n",
              "\n",
              "    .dataframe tbody tr th {\n",
              "        vertical-align: top;\n",
              "    }\n",
              "\n",
              "    .dataframe thead th {\n",
              "        text-align: right;\n",
              "    }\n",
              "</style>\n",
              "<table border=\"1\" class=\"dataframe\">\n",
              "  <thead>\n",
              "    <tr style=\"text-align: right;\">\n",
              "      <th></th>\n",
              "      <th>title</th>\n",
              "      <th>est</th>\n",
              "      <th>id</th>\n",
              "    </tr>\n",
              "  </thead>\n",
              "  <tbody>\n",
              "    <tr>\n",
              "      <th>1593</th>\n",
              "      <td>Deceiver</td>\n",
              "      <td>4.427872</td>\n",
              "      <td>14583</td>\n",
              "    </tr>\n",
              "    <tr>\n",
              "      <th>17383</th>\n",
              "      <td>Dreamkiller</td>\n",
              "      <td>4.381692</td>\n",
              "      <td>36663</td>\n",
              "    </tr>\n",
              "    <tr>\n",
              "      <th>14748</th>\n",
              "      <td>Defenseless</td>\n",
              "      <td>4.318567</td>\n",
              "      <td>41787</td>\n",
              "    </tr>\n",
              "    <tr>\n",
              "      <th>37110</th>\n",
              "      <td>404: Error Not Found</td>\n",
              "      <td>4.194964</td>\n",
              "      <td>71481</td>\n",
              "    </tr>\n",
              "    <tr>\n",
              "      <th>575</th>\n",
              "      <td>Café au Lait</td>\n",
              "      <td>4.184341</td>\n",
              "      <td>47507</td>\n",
              "    </tr>\n",
              "    <tr>\n",
              "      <th>19668</th>\n",
              "      <td>Alex Cross</td>\n",
              "      <td>4.146009</td>\n",
              "      <td>94348</td>\n",
              "    </tr>\n",
              "    <tr>\n",
              "      <th>9588</th>\n",
              "      <td>A Show of Force</td>\n",
              "      <td>4.146009</td>\n",
              "      <td>26426</td>\n",
              "    </tr>\n",
              "    <tr>\n",
              "      <th>16407</th>\n",
              "      <td>Bad Ronald</td>\n",
              "      <td>4.146009</td>\n",
              "      <td>56787</td>\n",
              "    </tr>\n",
              "    <tr>\n",
              "      <th>13073</th>\n",
              "      <td>JCVD</td>\n",
              "      <td>4.146009</td>\n",
              "      <td>13672</td>\n",
              "    </tr>\n",
              "    <tr>\n",
              "      <th>42974</th>\n",
              "      <td>Population Zero</td>\n",
              "      <td>4.146009</td>\n",
              "      <td>408219</td>\n",
              "    </tr>\n",
              "  </tbody>\n",
              "</table>\n",
              "</div>"
            ],
            "text/plain": [
              "                      title       est      id\n",
              "1593               Deceiver  4.427872   14583\n",
              "17383           Dreamkiller  4.381692   36663\n",
              "14748           Defenseless  4.318567   41787\n",
              "37110  404: Error Not Found  4.194964   71481\n",
              "575            Café au Lait  4.184341   47507\n",
              "19668            Alex Cross  4.146009   94348\n",
              "9588        A Show of Force  4.146009   26426\n",
              "16407            Bad Ronald  4.146009   56787\n",
              "13073                  JCVD  4.146009   13672\n",
              "42974       Population Zero  4.146009  408219"
            ]
          },
          "execution_count": 14,
          "metadata": {},
          "output_type": "execute_result"
        }
      ],
      "source": [
        "hybrid(4, \"Lumumba\")"
      ]
    },
    {
      "cell_type": "code",
      "execution_count": 15,
      "metadata": {
        "colab": {
          "base_uri": "https://localhost:8080/",
          "height": 363
        },
        "id": "yfj99XqbEQ2P",
        "outputId": "dd260800-7fde-4893-99cc-c98c1f44c101"
      },
      "outputs": [
        {
          "data": {
            "text/html": [
              "<div>\n",
              "<style scoped>\n",
              "    .dataframe tbody tr th:only-of-type {\n",
              "        vertical-align: middle;\n",
              "    }\n",
              "\n",
              "    .dataframe tbody tr th {\n",
              "        vertical-align: top;\n",
              "    }\n",
              "\n",
              "    .dataframe thead th {\n",
              "        text-align: right;\n",
              "    }\n",
              "</style>\n",
              "<table border=\"1\" class=\"dataframe\">\n",
              "  <thead>\n",
              "    <tr style=\"text-align: right;\">\n",
              "      <th></th>\n",
              "      <th>title</th>\n",
              "      <th>est</th>\n",
              "      <th>id</th>\n",
              "    </tr>\n",
              "  </thead>\n",
              "  <tbody>\n",
              "    <tr>\n",
              "      <th>208</th>\n",
              "      <td>The Browning Version</td>\n",
              "      <td>3.305320</td>\n",
              "      <td>49805</td>\n",
              "    </tr>\n",
              "    <tr>\n",
              "      <th>1086</th>\n",
              "      <td>Drunks</td>\n",
              "      <td>3.250819</td>\n",
              "      <td>116844</td>\n",
              "    </tr>\n",
              "    <tr>\n",
              "      <th>6294</th>\n",
              "      <td>Barton Fink</td>\n",
              "      <td>2.937608</td>\n",
              "      <td>290</td>\n",
              "    </tr>\n",
              "    <tr>\n",
              "      <th>493</th>\n",
              "      <td>Mr. Jones</td>\n",
              "      <td>2.883664</td>\n",
              "      <td>2625</td>\n",
              "    </tr>\n",
              "    <tr>\n",
              "      <th>2676</th>\n",
              "      <td>Airplane!</td>\n",
              "      <td>2.866538</td>\n",
              "      <td>813</td>\n",
              "    </tr>\n",
              "    <tr>\n",
              "      <th>35721</th>\n",
              "      <td>Aşk Kırmızı</td>\n",
              "      <td>2.811172</td>\n",
              "      <td>210408</td>\n",
              "    </tr>\n",
              "    <tr>\n",
              "      <th>13709</th>\n",
              "      <td>Shall We Kiss?</td>\n",
              "      <td>2.797021</td>\n",
              "      <td>10541</td>\n",
              "    </tr>\n",
              "    <tr>\n",
              "      <th>7083</th>\n",
              "      <td>La Strada</td>\n",
              "      <td>2.783242</td>\n",
              "      <td>405</td>\n",
              "    </tr>\n",
              "    <tr>\n",
              "      <th>9721</th>\n",
              "      <td>Frozen Land</td>\n",
              "      <td>2.744549</td>\n",
              "      <td>18279</td>\n",
              "    </tr>\n",
              "    <tr>\n",
              "      <th>5210</th>\n",
              "      <td>The Temp</td>\n",
              "      <td>2.707615</td>\n",
              "      <td>17168</td>\n",
              "    </tr>\n",
              "  </tbody>\n",
              "</table>\n",
              "</div>"
            ],
            "text/plain": [
              "                      title       est      id\n",
              "208    The Browning Version  3.305320   49805\n",
              "1086                 Drunks  3.250819  116844\n",
              "6294            Barton Fink  2.937608     290\n",
              "493               Mr. Jones  2.883664    2625\n",
              "2676              Airplane!  2.866538     813\n",
              "35721           Aşk Kırmızı  2.811172  210408\n",
              "13709        Shall We Kiss?  2.797021   10541\n",
              "7083              La Strada  2.783242     405\n",
              "9721            Frozen Land  2.744549   18279\n",
              "5210               The Temp  2.707615   17168"
            ]
          },
          "execution_count": 15,
          "metadata": {},
          "output_type": "execute_result"
        }
      ],
      "source": [
        "hybrid(1, \"Leaving Las Vegas\")"
      ]
    },
    {
      "cell_type": "code",
      "execution_count": 16,
      "metadata": {
        "colab": {
          "base_uri": "https://localhost:8080/",
          "height": 363
        },
        "id": "G9SBon79EQxm",
        "outputId": "5eec329e-68c1-48ba-ac3d-c4ddc45e81bd"
      },
      "outputs": [
        {
          "data": {
            "text/html": [
              "<div>\n",
              "<style scoped>\n",
              "    .dataframe tbody tr th:only-of-type {\n",
              "        vertical-align: middle;\n",
              "    }\n",
              "\n",
              "    .dataframe tbody tr th {\n",
              "        vertical-align: top;\n",
              "    }\n",
              "\n",
              "    .dataframe thead th {\n",
              "        text-align: right;\n",
              "    }\n",
              "</style>\n",
              "<table border=\"1\" class=\"dataframe\">\n",
              "  <thead>\n",
              "    <tr style=\"text-align: right;\">\n",
              "      <th></th>\n",
              "      <th>title</th>\n",
              "      <th>est</th>\n",
              "      <th>id</th>\n",
              "    </tr>\n",
              "  </thead>\n",
              "  <tbody>\n",
              "    <tr>\n",
              "      <th>0</th>\n",
              "      <td>Cold Water</td>\n",
              "      <td>2.905315</td>\n",
              "      <td>64901</td>\n",
              "    </tr>\n",
              "    <tr>\n",
              "      <th>1</th>\n",
              "      <td>Les Destinées sentimentales</td>\n",
              "      <td>2.809735</td>\n",
              "      <td>64310</td>\n",
              "    </tr>\n",
              "    <tr>\n",
              "      <th>2</th>\n",
              "      <td>Lumumba</td>\n",
              "      <td>2.707615</td>\n",
              "      <td>55551</td>\n",
              "    </tr>\n",
              "    <tr>\n",
              "      <th>3</th>\n",
              "      <td>Dil Dosti Etc</td>\n",
              "      <td>2.707615</td>\n",
              "      <td>20454</td>\n",
              "    </tr>\n",
              "    <tr>\n",
              "      <th>4</th>\n",
              "      <td>Stevie</td>\n",
              "      <td>2.707615</td>\n",
              "      <td>51927</td>\n",
              "    </tr>\n",
              "    <tr>\n",
              "      <th>5</th>\n",
              "      <td>The Blue Room</td>\n",
              "      <td>2.707615</td>\n",
              "      <td>266034</td>\n",
              "    </tr>\n",
              "    <tr>\n",
              "      <th>6</th>\n",
              "      <td>Delbaran</td>\n",
              "      <td>2.707615</td>\n",
              "      <td>43765</td>\n",
              "    </tr>\n",
              "    <tr>\n",
              "      <th>7</th>\n",
              "      <td>Under The Domim Tree</td>\n",
              "      <td>2.707615</td>\n",
              "      <td>117730</td>\n",
              "    </tr>\n",
              "    <tr>\n",
              "      <th>8</th>\n",
              "      <td>The Saddest Boy in the World</td>\n",
              "      <td>2.707615</td>\n",
              "      <td>118015</td>\n",
              "    </tr>\n",
              "    <tr>\n",
              "      <th>9</th>\n",
              "      <td>Bolivia</td>\n",
              "      <td>2.707615</td>\n",
              "      <td>49913</td>\n",
              "    </tr>\n",
              "  </tbody>\n",
              "</table>\n",
              "</div>"
            ],
            "text/plain": [
              "                          title       est      id\n",
              "0                    Cold Water  2.905315   64901\n",
              "1   Les Destinées sentimentales  2.809735   64310\n",
              "2                       Lumumba  2.707615   55551\n",
              "3                 Dil Dosti Etc  2.707615   20454\n",
              "4                        Stevie  2.707615   51927\n",
              "5                 The Blue Room  2.707615  266034\n",
              "6                      Delbaran  2.707615   43765\n",
              "7          Under The Domim Tree  2.707615  117730\n",
              "8  The Saddest Boy in the World  2.707615  118015\n",
              "9                       Bolivia  2.707615   49913"
            ]
          },
          "execution_count": 16,
          "metadata": {},
          "output_type": "execute_result"
        }
      ],
      "source": [
        "getUserRecommender(1)"
      ]
    },
    {
      "cell_type": "code",
      "execution_count": null,
      "metadata": {},
      "outputs": [
        {
          "name": "stdout",
          "output_type": "stream",
          "text": [
            "Saving models and data...\n",
            " SVD model saved\n",
            " Cosine similarity matrix saved\n",
            " TF-IDF matrix saved\n",
            " Movie indices saved\n",
            " Movie ID mapping saved\n",
            " Preprocessed data saved\n",
            "\n",
            " All models and data saved successfully!\n",
            "Files created:\n",
            "- svd_model.pkl\n",
            "- cosine_similarity.pkl\n",
            "- tfidf_matrix.pkl\n",
            "- movie_indices.pkl\n",
            "- movie_id_mapping.csv\n",
            "- preprocessed_data.pkl\n"
          ]
        }
      ],
      "source": [
        "import pickle\n",
        "import joblib\n",
        "\n",
        "print(\"Saving models and data...\")\n",
        "\n",
        "# Save the trained SVD model\n",
        "with open('svd_model.pkl', 'wb') as f:\n",
        "    pickle.dump(svd, f)\n",
        "print(\" SVD model saved\")\n",
        "\n",
        "# Save the cosine similarity matrix (first 15000 rows only to manage file size)\n",
        "cosine_sim_subset = cosine_sim[:15000] if cosine_sim.shape[0] > 15000 else cosine_sim\n",
        "with open('cosine_similarity.pkl', 'wb') as f:\n",
        "    pickle.dump(cosine_sim_subset, f)\n",
        "print(\" Cosine similarity matrix saved\")\n",
        "\n",
        "# Save the TF-IDF matrix (optional, for future use)\n",
        "with open('tfidf_matrix.pkl', 'wb') as f:\n",
        "    pickle.dump(tfidf_matrix, f)\n",
        "print(\" TF-IDF matrix saved\")\n",
        "\n",
        "# Save indices for movie titles\n",
        "indices = pd.Series(moviesData.index, index=moviesData['title'])\n",
        "with open('movie_indices.pkl', 'wb') as f:\n",
        "    pickle.dump(indices, f)\n",
        "print(\" Movie indices saved\")\n",
        "\n",
        "# Save movie_id mapping\n",
        "movie_id_mapping = links[[\"movieId\", \"tmdbId\"]]\n",
        "movie_id_mapping.to_csv(\"../data/movie_id_mapping.csv\", index=False)\n",
        "print(\" Movie ID mapping saved\")\n",
        "\n",
        "# Create a preprocessed dataset for faster loading\n",
        "preprocessed_data = {\n",
        "    'movies_data': moviesData,\n",
        "    'movie_com': movie_com,\n",
        "    'ratings': ratings,\n",
        "    'links': links\n",
        "}\n",
        "\n",
        "with open('preprocessed_data.pkl', 'wb') as f:\n",
        "    pickle.dump(preprocessed_data, f)\n",
        "print(\" Preprocessed data saved\")\n",
        "\n",
        "print(\"\\n All models and data saved successfully!\")\n",
        "print(\"Files created:\")\n",
        "print(\"- svd_model.pkl\")\n",
        "print(\"- cosine_similarity.pkl\") \n",
        "print(\"- tfidf_matrix.pkl\")\n",
        "print(\"- movie_indices.pkl\")\n",
        "print(\"- movie_id_mapping.csv\")\n",
        "print(\"- preprocessed_data.pkl\")"
      ]
    }
  ],
  "metadata": {
    "colab": {
      "provenance": []
    },
    "kernelspec": {
      "display_name": "Python 3",
      "language": "python",
      "name": "python3"
    },
    "language_info": {
      "codemirror_mode": {
        "name": "ipython",
        "version": 3
      },
      "file_extension": ".py",
      "mimetype": "text/x-python",
      "name": "python",
      "nbconvert_exporter": "python",
      "pygments_lexer": "ipython3",
      "version": "3.10.0"
    },
    "orig_nbformat": 4
  },
  "nbformat": 4,
  "nbformat_minor": 0
}
